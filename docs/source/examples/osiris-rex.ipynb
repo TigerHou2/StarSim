{
 "cells": [
  {
   "cell_type": "markdown",
   "id": "2f1bb454",
   "metadata": {},
   "source": [
    "# OSIRIS-REx"
   ]
  },
  {
   "cell_type": "code",
   "execution_count": null,
   "id": "4ff0a068",
   "metadata": {},
   "outputs": [],
   "source": [
    "import os\n",
    "os.chdir('../../..')\n",
    "import STLib\n",
    "\n",
    "# these settings are being changed to reduce the documentation CI workflow runtime\n",
    "STLib.DEFAULT_CACHE_EXPIRATION_DAYS = 1e10  # don't need up-to-date cache for frozen example\n",
    "STLib.DEFAULT_SMALL_BODIES_HMAX = 4  # this is an example with Ceres which has H = 3.34\n",
    "\n",
    "from astropy import units\n",
    "from astropy.time import Time, TimeDelta\n",
    "import numpy as np\n",
    "np.random.seed(1)  # reproducibility\n",
    "\n",
    "import matplotlib.pyplot as plt\n",
    "from matplotlib.colors import LogNorm\n",
    "# %matplotlib widget"
   ]
  },
  {
   "cell_type": "markdown",
   "id": "7696399b",
   "metadata": {},
   "source": [
    "Initialize the library with basic data, including SPICE kernels, asteroid spectra, and some standard filters."
   ]
  },
  {
   "cell_type": "code",
   "execution_count": null,
   "id": "fe4f217a",
   "metadata": {},
   "outputs": [],
   "source": [
    "STLib.downloadBasicData(suppress=True)"
   ]
  },
  {
   "cell_type": "markdown",
   "id": "22436b5e",
   "metadata": {},
   "source": [
    "Import data used only for this example; includes OSIRIS-REx kernel + Gaia's Rp, G, and Bp filters."
   ]
  },
  {
   "cell_type": "code",
   "execution_count": null,
   "id": "02e4c164",
   "metadata": {},
   "outputs": [],
   "source": [
    "from pathlib import Path\n",
    "Path(\"data/kernels\").mkdir(parents=False, exist_ok=True)\n",
    "Path(\"data/filters/gaia\").mkdir(parents=True, exist_ok=True)\n",
    "\n",
    "# from NASA's Navigation and Ancillary Information Facility\n",
    "STLib._download(\"https://naif.jpl.nasa.gov/pub/naif/ORX/kernels/spk/orx_240210_290101_240410_od389-R-DSM3-P-DSM5_v1.bsp\", \n",
    "                \"data/kernels/orx_240210_290101_240410_od389-R-DSM3-P-DSM5_v1.bsp\", suppress=True)\n",
    "\n",
    "# from the Spanish Virtual Observatory\n",
    "STLib._download(\"https://svo2.cab.inta-csic.es/theory/fps/fps.php?ID=GAIA/GAIA0.Gbp\", \"data/filters/gaia/Gbp.xml\", suppress=True)\n",
    "STLib._download(\"https://svo2.cab.inta-csic.es/theory/fps/fps.php?ID=GAIA/GAIA0.G\", \"data/filters/gaia/G.xml\", suppress=True)\n",
    "STLib._download(\"https://svo2.cab.inta-csic.es/theory/fps/fps.php?ID=GAIA/GAIA0.Grp\", \"data/filters/gaia/Grp.xml\", suppress=True)"
   ]
  },
  {
   "cell_type": "markdown",
   "id": "84ecd37e",
   "metadata": {},
   "source": [
    "## Camera Model"
   ]
  },
  {
   "cell_type": "code",
   "execution_count": null,
   "id": "a5905b14",
   "metadata": {},
   "outputs": [],
   "source": [
    "from STLib import Sensor, Filter, Lens, Camera"
   ]
  },
  {
   "cell_type": "markdown",
   "id": "e3899bf3",
   "metadata": {},
   "source": [
    "### Lens"
   ]
  },
  {
   "cell_type": "markdown",
   "id": "c09ed048",
   "metadata": {},
   "source": [
    "Define the aperture, focal length, and point spread function (PSF).\n",
    "\n",
    "There are several built-in PSF models:\n",
    "\n",
    "- Airy disk (diffraction limited PSF): \n",
    "  - The intensity is given by: $I(x,y) = I_0\\left[\\dfrac{2J_1[\\nu]}{\\nu}\\right]^2$, where $\\nu = \\dfrac{\\pi D \\cdot \\sqrt{x^2+y^2}}{\\lambda \\cdot \\sqrt{x^2+y^2+f^2}}$.\n",
    "  - We care about flux (or power), which is $\\displaystyle \\int\\int I(x,y) \\;dxdy \\cdot \\dfrac{\\pi \\cdot (D/2)^2}{(\\lambda f)^2}$.\n",
    "  - $I_0$ is the maximum intensity, $J_1$ is the 1st order Bessel function of the first kind.\n",
    "  - $x, y$ are the sample coordinates on the detector plane with the optical axis as $(0, 0)$, \n",
    "  - $f$ is the focal length, $D$ is the aperture diameter, and $\\lambda$ is the wavelength of the source.\n",
    "- Defocused PSF:\n",
    "  - Defined in Eq. 40 of [Basic Wavefront Aberration Theory for Optical Metrology](https://wp.optics.arizona.edu/jcwyant/wp-content/uploads/sites/13/2016/08/03-BasicAberrations_and_Optical_Testing.pdf) by Wyant and Creath.\n",
    "  - Additional credit goes to [this blog](https://www.strollswithmydog.com/a-simple-model-for-sharpness-in-digital-cameras-defocus/).\n",
    "  - The power is given by: $\\dfrac{P_\\text{tot}\\pi}{\\lambda\\cdot(f/D)}\\cdot \\displaystyle \\left\\lvert\\int_0^1 e^{i \\frac{2\\pi}{\\lambda} W_{020} \\rho^2} \\cdot J_0\\bigg[\\dfrac{\\pi r}{\\lambda\\cdot(f/D)} \\rho \\bigg] \\cdot \\rho \\;d\\rho\\right\\rvert^2$.\n",
    "  - $P$ is the total power, $J_0$ is the 0th order Bessel function of the first kind;\n",
    "  - $W_{020}$ is the peak optical path difference (the term that controls defocus).\n",
    "- Gaussian PSF:\n",
    "  - The power is given by a 2D Gaussian distribution with mean $\\mathbf{0}$ and covariance $\\mathbf{\\Sigma}$.\n",
    "- Pillbox PSF:\n",
    "  - The power is given by $P(x,y) = \\begin{cases} P_\\text{tot} / (\\pi R^2) & \\text{, } x^2+y^2 < R^2 \\\\ 0 & \\text{, otherwise} \\end{cases}$\n",
    "  - This generates a flat PSF within a circle of radius $R$.\n",
    "\n",
    "Custom PSF equations can be defined with the following format:\n",
    "```python\n",
    "    def customPSF(x: Number, y: Number) -> float:\n",
    "```\n",
    "where the input args will be (x, y) coordinates in `astropy.units.micron`. Verify that the integral of the output approaches unity. Note that the custom PSF will be dynamically type-checked, so type hints are necessary (`Number = typing.Union[int, float]`)."
   ]
  },
  {
   "cell_type": "code",
   "execution_count": null,
   "id": "897710bc",
   "metadata": {},
   "outputs": [],
   "source": [
    "from STLib.functions.psf import airyPSFModel, defocusPSFModel, pillboxPSFModel, gaussianPSFModel\n",
    "\n",
    "aperture = 50 * units.mm\n",
    "focal_length = 30 * units.mm\n",
    "wavelength = 550 * units.nm  # only needed by defocusPSFModel\n",
    "\n",
    "# the `psf` returned by <name>PSFModel is a function.\n",
    "# psf = airyPSFModel(wavelength=wavelength, aperture=aperture, focal_length=aperture)\n",
    "# psf = defocusPSFModel(wavelength=wavelength, aperture=aperture, focal_length=focal_length, defocus=10.0*wavelength)\n",
    "# psf = pillboxPSFModel(radius=6*units.micron)\n",
    "psf = gaussianPSFModel(cov=(5*units.micron)**2)"
   ]
  },
  {
   "cell_type": "markdown",
   "id": "7ef67614",
   "metadata": {},
   "source": [
    "The lens is defined by the aperture, focal length, transmission efficiency, PSF, and lens distortion. \n",
    "\n",
    "The Brown-Conrady lens distortion model (see [here](https://docs.nvidia.com/vpi/algo_ldc.html) and <a href=\"https://en.wikipedia.org/wiki/Distortion_(optics)#Software_correction)\">here</a>) is defined by radial terms `k1`-`k6` and tangential terms `p1`, `p2`.\n",
    "\n",
    "For computational reasons, the PSF model will only be computed within the nearest rectangular grid of pixels relative to the center of the ray. The PSF is numerically integrated over each pixel; by default the bounds of integration and step size are tuned automatically. Alternatively, you can flag `auto_tune_integration_params = False`, then provide your own integration bounds via `psf_bounds` in astropy length units and the number of grid points for integration via `psf_resolution`. "
   ]
  },
  {
   "cell_type": "code",
   "execution_count": null,
   "id": "c7eb75ea",
   "metadata": {},
   "outputs": [],
   "source": [
    "lens = Lens(aperture=aperture, focal_length=focal_length, \n",
    "            transmission_efficiency=0.99, \n",
    "            k1=0.05, k2=0.01, k4=0.01,\n",
    "            p1=0.01,\n",
    "            psf=psf, auto_tune_integration_params=True)"
   ]
  },
  {
   "cell_type": "markdown",
   "id": "1d3f1af1",
   "metadata": {},
   "source": [
    "In the simulation, the PSF is integrated numerically over each pixel by sampling a uniformly spaced grid. The argument `psf_bounds` determines the ±x, ±y range -- in microns -- where the PSF has meaningful value and should be computed. The argument `psf_resolution` specifies the number of grid points along each axis. The tuning function used under the hood is shown below; the tuning tolerances can be adjusted. "
   ]
  },
  {
   "cell_type": "code",
   "execution_count": null,
   "id": "a7963873",
   "metadata": {},
   "outputs": [],
   "source": [
    "_bounds, _grid_size = lens.tuneIntegrationParams(atol=1e-2,rtol=1e-4,btol=1e-3,gtol=1e-1)\n",
    "print(f\"Tuning results: `psf_bounds` = {_bounds:.3f}, `psf_resolution` = {_grid_size}\")"
   ]
  },
  {
   "cell_type": "code",
   "execution_count": null,
   "id": "206afd87",
   "metadata": {},
   "outputs": [],
   "source": [
    "lens.psf_bounds = _bounds\n",
    "lens.psf_resolution = _grid_size"
   ]
  },
  {
   "cell_type": "markdown",
   "id": "72b2ff64",
   "metadata": {},
   "source": [
    "We can visualize the lens distortion as follows:"
   ]
  },
  {
   "cell_type": "code",
   "execution_count": null,
   "id": "f5c43347",
   "metadata": {},
   "outputs": [],
   "source": [
    "lens.showDistortion(figsize=(4,4))"
   ]
  },
  {
   "cell_type": "markdown",
   "id": "5313afe8",
   "metadata": {},
   "source": [
    "### Filter"
   ]
  },
  {
   "cell_type": "code",
   "execution_count": null,
   "id": "c845ace6",
   "metadata": {},
   "outputs": [],
   "source": [
    "Vega_zero_point_Gaia_bp_band = 4.07852e-9 * units.erg / units.cm**2 / units.s / units.angstrom\n",
    "filt = Filter(file='data/filters/gaia/Gbp.xml', zp_flux=Vega_zero_point_Gaia_bp_band)"
   ]
  },
  {
   "cell_type": "markdown",
   "id": "434a6595",
   "metadata": {},
   "source": [
    "### Sensor"
   ]
  },
  {
   "cell_type": "markdown",
   "id": "8cf96178",
   "metadata": {},
   "source": [
    "Define the dark current model. Currently, the only built-in dark current model is an exponential model. \n",
    "\n",
    "You can add your own model which should adhere to the following format:\n",
    "```python\n",
    "    customDark(T: Number) -> float:\n",
    "```\n",
    "The function should return `astropy.units.pA / astropy.units.cm**2`."
   ]
  },
  {
   "cell_type": "code",
   "execution_count": null,
   "id": "38b2d7d8",
   "metadata": {},
   "outputs": [],
   "source": [
    "from STLib.functions.dark import exponentialDarkModel\n",
    "darkFunc = exponentialDarkModel(I0 = 0.5, T0 = 20, dT = 10)"
   ]
  },
  {
   "cell_type": "markdown",
   "id": "148b5590",
   "metadata": {},
   "source": [
    "Define the sensor with the following parameters:\n",
    "- `width_px`/`height_px`: number of pixels in width/height.\n",
    "- `px_len`: size of pixel in microns. If scalar, the pixel is assumed to be square. Rectangular pixels can be defined with a tuple specifying `(width, height)`.\n",
    "- `px_pitch`: spacing between pixels in microns. Can be scalar or tuple similar to `px_len`.\n",
    "- `quantum_efficiency`: average filter QE in range $[0,1]$.\n",
    "- `dark_current`: dark current function as discussed above.\n",
    "- `hot_pixels`: 2D array of scalars which scale the output of `dark_current`. Use `hot_pixels=None` for no hot pixels, which is equivalent to `hot_pixels=np.ones((height_px,width_px))`.\n",
    "- `gain`: electron to ADU conversion factor.\n",
    "- `bias`: scalar, 1D array, or 2D array. Represents a voltage bias in the readout process to prevent negative readings. If scalar, assumes uniform bias. If 1D array, assumes bias is column-dependent. If 2D array, assumes bias is given per pixel. Assumes units of `astropy.units.adu`.\n",
    "- `full_well_capacity`: charge capacity in units of `astropy.units.electron`.\n",
    "- `adc_limit`: limit of the ADC counter, typically an even power of 2.\n",
    "- `bloom`: subset of `{'+x','-x','+y','-y'}`, indicates which direction(s) electrons can leak into if a pixel is saturated. \n",
    "- `readout_time`: (planned feature) time needed to read out an image row by row.\n",
    "- `read_noise`: mean read noise in units of `astropy.units.electron`."
   ]
  },
  {
   "cell_type": "code",
   "execution_count": null,
   "id": "3840057a",
   "metadata": {},
   "outputs": [],
   "source": [
    "NUM_ROWS = 800\n",
    "NUM_COLS = 600\n",
    "\n",
    "BIAS = np.ones(NUM_COLS) * 20\n",
    "bad_bias_rate = 0.005\n",
    "bad_cols = np.random.choice(np.arange(NUM_COLS, dtype=int), int(np.ceil(bad_bias_rate * NUM_COLS)), replace=False)\n",
    "BIAS[bad_cols] = 500\n",
    "\n",
    "HOT_PX = np.ones((NUM_ROWS, NUM_COLS))\n",
    "hot_rate = 0.001\n",
    "bad_px = np.random.choice(np.arange(NUM_COLS*NUM_ROWS, dtype=int), int(np.ceil(hot_rate * NUM_COLS*NUM_ROWS)), replace=False)\n",
    "HOT_PX.ravel()[bad_px] = np.random.rand(len(bad_px)) * 10 + 5\n",
    "\n",
    "sensor = Sensor(width_px=NUM_COLS, height_px=NUM_ROWS, \n",
    "                px_len=6, px_pitch=6.5, \n",
    "                quantum_efficiency=0.3, dark_current=darkFunc, hot_pixels=HOT_PX,\n",
    "                gain=5, bias=BIAS, full_well_capacity=2e4, adc_limit=2**16,\n",
    "                bloom=set(), \n",
    "                readout_time=0, read_noise=25)"
   ]
  },
  {
   "cell_type": "markdown",
   "id": "db165194",
   "metadata": {},
   "source": [
    "### Empty Source"
   ]
  },
  {
   "cell_type": "markdown",
   "id": "d945eb3d",
   "metadata": {},
   "source": [
    "We will first take a dark image, so define a source with no stars. Later in this notebook we will look at adding sources."
   ]
  },
  {
   "cell_type": "code",
   "execution_count": null,
   "id": "b52b9dfa",
   "metadata": {},
   "outputs": [],
   "source": [
    "from STLib.sources import AstronomicalSources\n",
    "sources_dark = AstronomicalSources()"
   ]
  },
  {
   "cell_type": "markdown",
   "id": "3cbd742f",
   "metadata": {},
   "source": [
    "### Camera"
   ]
  },
  {
   "cell_type": "markdown",
   "id": "b428235a",
   "metadata": {},
   "source": [
    "The camera is defined by hardware including `lens`, `filter`, and `sensor`;\n",
    "\n",
    "Its environment: `sources` and `sky_mag`;\n",
    "\n",
    "Its orientation: `ra`, `dec`, and `roll`; and\n",
    "\n",
    "Its states, defined by a SPICE kernel `kernel` and current time `time`. "
   ]
  },
  {
   "cell_type": "code",
   "execution_count": null,
   "id": "32a08522",
   "metadata": {},
   "outputs": [],
   "source": [
    "orex_kernel = \"data/kernels/orx_240210_290101_240410_od389-R-DSM3-P-DSM5_v1.bsp\"\n",
    "initial_time = Time(\"2028-04-05\", format='iso', scale='utc')\n",
    "\n",
    "camera = Camera(lens=lens, filter_=filt, sensor=sensor, sources=sources_dark, sky_mag=21.5, kernel=orex_kernel, time=initial_time)"
   ]
  },
  {
   "cell_type": "markdown",
   "id": "567f862f",
   "metadata": {},
   "source": [
    "## Dark Image"
   ]
  },
  {
   "cell_type": "markdown",
   "id": "4b8d4739",
   "metadata": {},
   "source": [
    "Take an image with no stars to simulate a dark image."
   ]
  },
  {
   "cell_type": "code",
   "execution_count": null,
   "id": "32df5dd4",
   "metadata": {},
   "outputs": [],
   "source": [
    "camera.sensor.clear()\n",
    "image = camera.snap(exposure_time=1, temperature=10, close_shutter=True)"
   ]
  },
  {
   "cell_type": "code",
   "execution_count": null,
   "id": "b02fdb6f",
   "metadata": {},
   "outputs": [],
   "source": [
    "fig, ax = plt.subplots()\n",
    "im = ax.imshow(image, norm=LogNorm())\n",
    "ax.tick_params(top=True, labeltop=True, bottom=False, labelbottom=False)\n",
    "plt.colorbar(im)\n",
    "plt.show()"
   ]
  },
  {
   "cell_type": "markdown",
   "id": "7098e3db",
   "metadata": {},
   "source": [
    "## Adding Sources"
   ]
  },
  {
   "cell_type": "markdown",
   "id": "9694e521",
   "metadata": {},
   "source": [
    "We will now add sources (stars and asteroids) to the camera. First, import the relevant modules and define the camera orientation (currently the J2000/ICRF frame is assumed)."
   ]
  },
  {
   "cell_type": "code",
   "execution_count": null,
   "id": "e7daf5e0",
   "metadata": {},
   "outputs": [],
   "source": [
    "from STLib.sources import SpectralSources, MagnitudeSources, SolarSystemSources\n",
    "from STLib.utils import spectraConeSearch, sbdbQuery\n",
    "RA   = 214.62 * units.degree\n",
    "DEC  = -7.52 * units.degree\n",
    "ROLL = 45 * units.degree"
   ]
  },
  {
   "cell_type": "markdown",
   "id": "13e8c725",
   "metadata": {},
   "source": [
    "### Gaia Stars"
   ]
  },
  {
   "cell_type": "markdown",
   "id": "07534b5b",
   "metadata": {},
   "source": [
    "We will use a utility function to query the Gaia database for stars based on magnitude and FOV constraints. It is also possible to simply supply _all_ stars regardless of FOV; they will be culled during the calculations. Although this doesn't really affect the simulation time, supplying an all-sky database of stellar spectra requires a lot of storage (roughly 200 MB for coarse spectra of stars down to 8th magnitude in Gaia's G-band after doing some tricks to reduce the size)."
   ]
  },
  {
   "cell_type": "code",
   "execution_count": null,
   "id": "48ff27e2",
   "metadata": {},
   "outputs": [],
   "source": [
    "MAG_CUTOFF = 10.0\n",
    "max_radius = 1.05 * np.sqrt(camera.fov[0]**2 + camera.fov[1]**2)\n",
    "spectral_stars, magnitude_stars = spectraConeSearch(ra=RA, dec=DEC, radius=max_radius, mag_cutoff=MAG_CUTOFF, cache=True, suppress=True)"
   ]
  },
  {
   "cell_type": "markdown",
   "id": "5f62e761",
   "metadata": {},
   "source": [
    "Construct the sources. Note that for magnitude-only sources, the magnitude and zero point values are assumed to be consistent with the selected filter. "
   ]
  },
  {
   "cell_type": "code",
   "execution_count": null,
   "id": "8457b85a",
   "metadata": {},
   "outputs": [],
   "source": [
    "spectral_sources = SpectralSources(\n",
    "    ra = spectral_stars['ra'],\n",
    "    dec = spectral_stars['dec'],\n",
    "    source_id = spectral_stars['source_id'],\n",
    "    spectral_flux_density=spectral_stars['spectral_flux_densities'],\n",
    "    sfd_wavelength=spectral_stars['wavelengths']\n",
    "    )\n",
    "\n",
    "magnitude_sources_g = MagnitudeSources(\n",
    "    ra = magnitude_stars['ra'],\n",
    "    dec = magnitude_stars['dec'],\n",
    "    source_id = magnitude_stars['source_id'],\n",
    "    magnitude = magnitude_stars['magnitudes_g']\n",
    "    )"
   ]
  },
  {
   "cell_type": "markdown",
   "id": "f8ca5431",
   "metadata": {},
   "source": [
    "### Asteroids"
   ]
  },
  {
   "cell_type": "markdown",
   "id": "620e4e7c",
   "metadata": {},
   "source": [
    "We also want to see if any small bodies (e.g., asteroids) within the Solar System will be visible. To do this, we first need to query the Small Body Database (SBDB) for a list of small bodies meeting certain criteria, then obtain their ephemeris files via JPL Horizons. The basic downloads includes a default list of small bodies (asteroids as far as the Trojans with H <= 10) which we can use as well."
   ]
  },
  {
   "cell_type": "code",
   "execution_count": null,
   "id": "6c3e13bb",
   "metadata": {},
   "outputs": [],
   "source": [
    "# sbdb_query_results = sbdbQuery(orbit_class=STLib.DEFAULT_SMALL_BODIES_GROUPS, Hmax=10)\n",
    "sbdb_query_results = STLib.DEFAULT_SMALL_BODIES_PATH  # the default results from `STLib.downloadBasicData()``"
   ]
  },
  {
   "cell_type": "markdown",
   "id": "fb8d2491",
   "metadata": {},
   "source": [
    "Use the query results to instantiate `SolarSystemSources`. Internally, this queries JPL Horizons for the kernels of each small body. Currently, planets are not supported. "
   ]
  },
  {
   "cell_type": "code",
   "execution_count": null,
   "id": "f737fa2f",
   "metadata": {},
   "outputs": [],
   "source": [
    "# override any existing files by setting the max cache age to 0 (days)\n",
    "start_date = Time(\"2024-01-01\", scale=\"tdb\")\n",
    "end_date   = Time(\"2030-01-01\", scale=\"tdb\")\n",
    "asteroids = SolarSystemSources(start_date=start_date, end_date=end_date, small_bodies_query_results=sbdb_query_results)"
   ]
  },
  {
   "cell_type": "markdown",
   "id": "1341c47f",
   "metadata": {},
   "source": [
    "## Simulating Grayscale Images"
   ]
  },
  {
   "cell_type": "markdown",
   "id": "adb873bd",
   "metadata": {},
   "source": [
    "Add all the sources and set the camera orientation. Each time `camera.snap()` is called, the sensor accumulates charge in simulation. Successive calls to `camera.snap` can be made to simulate longer exposures with variable/moving sources (readout noise is only added to the return value)."
   ]
  },
  {
   "cell_type": "code",
   "execution_count": null,
   "id": "7f9c90f9",
   "metadata": {},
   "outputs": [],
   "source": [
    "camera.sensor.clear()\n",
    "camera.sources = [spectral_sources, magnitude_sources_g, asteroids]\n",
    "camera.time = initial_time\n",
    "camera.orientation = [RA, DEC, ROLL]\n",
    "image = camera.snap(exposure_time=0.2, temperature=20, close_shutter=False) / camera.sensor.adc_limit.value"
   ]
  },
  {
   "cell_type": "code",
   "execution_count": null,
   "id": "176bbf7b",
   "metadata": {},
   "outputs": [],
   "source": [
    "STLib.utils.debug.ENABLE_TIMER = False  # disable function timing wrapper\n",
    "for ii in range(10):\n",
    "    camera.time += TimeDelta(0.05 * units.day, scale='tdb')\n",
    "    image = camera.snap(exposure_time=0.2, temperature=20, close_shutter=False) / camera.sensor.adc_limit.value"
   ]
  },
  {
   "cell_type": "markdown",
   "id": "71444d1b",
   "metadata": {},
   "source": [
    "The specific ra, dec we looked at was centered on Ceres. If we take multiple exposures over time, you can see the motion of Ceres across the image (from the center towards the bottom right). The figure below is zoomed in."
   ]
  },
  {
   "cell_type": "code",
   "execution_count": null,
   "id": "d80475b3",
   "metadata": {},
   "outputs": [],
   "source": [
    "fig, ax = plt.subplots(figsize=(5,5))\n",
    "im = ax.imshow(image, norm=LogNorm())\n",
    "ax.tick_params(top=True, labeltop=True, bottom=False, labelbottom=False)\n",
    "ax.set_xlim([275,335])\n",
    "ax.set_ylim([440,380])\n",
    "ax.arrow(305, 405, 5, 12.5, color='r', width=0.2, head_width=0.9)\n",
    "plt.colorbar(im, fraction=0.045)\n",
    "plt.show()"
   ]
  },
  {
   "cell_type": "code",
   "execution_count": null,
   "id": "8a99c853",
   "metadata": {},
   "outputs": [],
   "source": [
    "from PIL import Image\n",
    "image_uint8 = (image * 255).astype(np.uint8)\n",
    "im = Image.fromarray(image_uint8, mode='L')\n",
    "display(im)"
   ]
  },
  {
   "cell_type": "markdown",
   "id": "319f21d1",
   "metadata": {},
   "source": [
    "Try uploading the results to a star identification algorithm (e.g. [astrometry.net](https://nova.astrometry.net/))!\n",
    "\n",
    "You can also install TETRA (a different star identification algorithm) from ESA's Python implementation [here](https://tetra3.readthedocs.io/en/latest/index.html), then uncomment and run the following:"
   ]
  },
  {
   "cell_type": "code",
   "execution_count": null,
   "id": "1e4b1e62",
   "metadata": {},
   "outputs": [],
   "source": [
    "# import tetra3\n",
    "# import math\n",
    "# np.math = math\n",
    "# t3 = tetra3.Tetra3()\n",
    "# result = t3.solve_from_image(im, return_visual=True, return_matches=True)\n",
    "# print(f\"Tetra solution: RA = {result['RA']:.3f}, DEC = {result['Dec']:.3f}\")\n",
    "# print(f\"Truth:          RA = {RA.to_value(units.degree):.3f}, DEC = {DEC.to_value(units.degree):.3f}\")"
   ]
  },
  {
   "cell_type": "markdown",
   "id": "da5384dd",
   "metadata": {},
   "source": [
    "## Simulating Color Images"
   ]
  },
  {
   "cell_type": "markdown",
   "id": "6cb8eaa4",
   "metadata": {},
   "source": [
    "Gaia has a G filter + two photometers (blue and red). We will create filters corresponding to each of them.\n",
    "\n",
    "The zero points of these filters can be found from the [Spanish Virtual Observatory](https://svo2.cab.inta-csic.es/theory/fps/index.php?mode=browse&gname=GAIA&gname2=GAIA3&asttype=)."
   ]
  },
  {
   "cell_type": "code",
   "execution_count": null,
   "id": "fb0fe85f",
   "metadata": {},
   "outputs": [],
   "source": [
    "Vega_zero_point_Gaia_bp = 4.07852e-9 * units.erg / units.cm**2 / units.s / units.angstrom\n",
    "Vega_zero_point_Gaia_G  = 2.50386e-9 * units.erg / units.cm**2 / units.s / units.angstrom\n",
    "Vega_zero_point_Gaia_rp = 1.26902e-9 * units.erg / units.cm**2 / units.s / units.angstrom\n",
    "\n",
    "filt_r = Filter(file='data/filters/gaia/Grp.xml', zp_flux=Vega_zero_point_Gaia_rp)\n",
    "filt_g = Filter(file='data/filters/gaia/G.xml'  , zp_flux=Vega_zero_point_Gaia_G)\n",
    "filt_b = Filter(file='data/filters/gaia/Gbp.xml', zp_flux=Vega_zero_point_Gaia_bp)"
   ]
  },
  {
   "cell_type": "markdown",
   "id": "ffe36657",
   "metadata": {},
   "source": [
    "Since the stars' magnitudes will be different depending on the filter, we will also need to construct new light sources for stars that don't have spectra."
   ]
  },
  {
   "cell_type": "code",
   "execution_count": null,
   "id": "8fd454ba",
   "metadata": {},
   "outputs": [],
   "source": [
    "magnitude_sources_bp = MagnitudeSources(\n",
    "    ra = magnitude_stars['ra'],\n",
    "    dec = magnitude_stars['dec'],\n",
    "    source_id = magnitude_stars['source_id'],\n",
    "    magnitude = magnitude_stars['magnitudes_bp']\n",
    "    )\n",
    "\n",
    "magnitude_sources_rp = MagnitudeSources(\n",
    "    ra = magnitude_stars['ra'],\n",
    "    dec = magnitude_stars['dec'],\n",
    "    source_id = magnitude_stars['source_id'],\n",
    "    magnitude = magnitude_stars['magnitudes_rp']\n",
    "    )"
   ]
  },
  {
   "cell_type": "markdown",
   "id": "c7e6f742",
   "metadata": {},
   "source": [
    "Some convenience functions for touching up the image."
   ]
  },
  {
   "cell_type": "code",
   "execution_count": null,
   "id": "6b0a8419",
   "metadata": {},
   "outputs": [],
   "source": [
    "def adjustContrast(image, vmin=0, vmax=1):\n",
    "    return image * (vmax-vmin) + vmin\n",
    "def adjustGamma(image, gamma):\n",
    "    return image**gamma\n",
    "def adjustBrightness(image, brightness):\n",
    "    return np.minimum(1.0, image*brightness)"
   ]
  },
  {
   "cell_type": "code",
   "execution_count": null,
   "id": "d3358ec5",
   "metadata": {},
   "outputs": [],
   "source": [
    "camera.time = initial_time\n",
    "\n",
    "camera.sensor.clear()\n",
    "camera.filter_ = filt_r\n",
    "camera.sources = [spectral_sources, magnitude_sources_rp, asteroids]\n",
    "image_r = camera.snap(exposure_time=2, temperature=20) / camera.sensor.adc_limit.value\n",
    "\n",
    "camera.sensor.clear()\n",
    "camera.filter_ = filt_g\n",
    "camera.sources = [spectral_sources, magnitude_sources_g, asteroids]\n",
    "image_g = camera.snap(exposure_time=2, temperature=20) / camera.sensor.adc_limit.value\n",
    "\n",
    "camera.sensor.clear()\n",
    "camera.filter_ = filt_b\n",
    "camera.sources = [spectral_sources, magnitude_sources_bp, asteroids]\n",
    "image_b = camera.snap(exposure_time=2, temperature=20) / camera.sensor.adc_limit.value"
   ]
  },
  {
   "cell_type": "code",
   "execution_count": null,
   "id": "d6996908",
   "metadata": {},
   "outputs": [],
   "source": [
    "GAMMA = 1.0\n",
    "BRIGHTNESS = 1\n",
    "\n",
    "# Gaia's blue photometer basically covers the entire range of human eye spectral sensitivity,\n",
    "# so realistically what you'd see would be closer to the single channel image from above.\n",
    "# Nonetheless, we can generate a pretty false color image.\n",
    "\n",
    "# Since the G filter has about twice the bandpass of the other two filters,\n",
    "# we'll make an artistic choice to scale down its contribution to the green channel. \n",
    "image_r_adj = adjustBrightness(adjustGamma(image_r, GAMMA), BRIGHTNESS)\n",
    "image_g_adj = adjustBrightness(adjustGamma(image_g*0.9, GAMMA), BRIGHTNESS)\n",
    "image_b_adj = adjustBrightness(adjustGamma(image_b, GAMMA), BRIGHTNESS)\n",
    "\n",
    "rgb = np.dstack((image_r_adj, image_g_adj, image_b_adj))\n",
    "rgb_uint8 = np.round(rgb * 255).astype(np.uint8)\n",
    "\n",
    "im = Image.fromarray(rgb_uint8)"
   ]
  },
  {
   "cell_type": "code",
   "execution_count": null,
   "id": "de7e07bf",
   "metadata": {},
   "outputs": [],
   "source": [
    "display(im)"
   ]
  }
 ],
 "metadata": {
  "kernelspec": {
   "display_name": "phd",
   "language": "python",
   "name": "python3"
  },
  "language_info": {
   "codemirror_mode": {
    "name": "ipython",
    "version": 3
   },
   "file_extension": ".py",
   "mimetype": "text/x-python",
   "name": "python",
   "nbconvert_exporter": "python",
   "pygments_lexer": "ipython3",
   "version": "3.12.5"
  }
 },
 "nbformat": 4,
 "nbformat_minor": 5
}
