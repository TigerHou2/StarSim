{
 "cells": [
  {
   "cell_type": "markdown",
   "id": "6387ea89",
   "metadata": {},
   "source": [
    "## Download Gaia Data"
   ]
  },
  {
   "cell_type": "code",
   "execution_count": null,
   "id": "9e1eb6ce",
   "metadata": {},
   "outputs": [],
   "source": [
    "from astroquery.gaia import Gaia\n",
    "Gaia.MAIN_GAIA_TABLE = \"gaiadr3.gaia_source\""
   ]
  },
  {
   "cell_type": "code",
   "execution_count": null,
   "id": "c40d7baf",
   "metadata": {},
   "outputs": [],
   "source": [
    "MAGNITUDE_LIMIT = 8.0\n",
    "GAIA_PATH = f'../data/gaia_m<{MAGNITUDE_LIMIT}.ecsv'\n",
    "\n",
    "import os\n",
    "if not os.path.isfile(GAIA_PATH):\n",
    "\n",
    "    # Set up the query to fetch stars with g-band magnitude limit\n",
    "    query = f\"\"\"\n",
    "    SELECT \n",
    "        source_id, ref_epoch,\n",
    "        ra, dec, pmra, pmdec, \n",
    "        phot_g_mean_mag, \n",
    "        phot_bp_mean_mag, \n",
    "        phot_rp_mean_mag\n",
    "    FROM gaiadr3.gaia_source\n",
    "    WHERE phot_g_mean_mag < {MAGNITUDE_LIMIT}\n",
    "    ORDER BY phot_g_mean_mag ASC\n",
    "    \"\"\"\n",
    "\n",
    "    # Run the query asynchronously and dump to file\n",
    "    job = Gaia.launch_job_async(query, dump_to_file=True, output_format='ecsv', output_file=GAIA_PATH+'.gz')\n",
    "    os.rename(GAIA_PATH+'.gz', GAIA_PATH)  # already unzipped?\n",
    "\n",
    "else:\n",
    "\n",
    "    print(\"The query results already exist.\")"
   ]
  },
  {
   "cell_type": "markdown",
   "id": "84ecd37e",
   "metadata": {},
   "source": [
    "## Construct Camera Model"
   ]
  },
  {
   "cell_type": "code",
   "execution_count": null,
   "id": "cace0d6f",
   "metadata": {},
   "outputs": [],
   "source": [
    "import sys\n",
    "sys.path.append('../')\n",
    "from STLib.sensor import Sensor \n",
    "from STLib.lens import Lens\n",
    "from STLib.camera import Camera\n",
    "from STLib.functions.psf import airyPSFModel, defocusPSFModel, pillboxPSFModel, gaussianPSFModel\n",
    "from STLib.functions.dark import exponentialDarkModel\n",
    "import STLib.utils\n",
    "\n",
    "STLib.utils.ENABLE_TIMER = True\n",
    "\n",
    "import numpy as np\n",
    "import matplotlib.pyplot as plt\n",
    "%matplotlib widget\n",
    "from astropy import units\n",
    "from astropy.table import Table"
   ]
  },
  {
   "cell_type": "code",
   "execution_count": null,
   "id": "c7eb75ea",
   "metadata": {},
   "outputs": [],
   "source": [
    "wavelength = 550  # nm\n",
    "aperture = 50  # mm\n",
    "focal_length = 30  # mm"
   ]
  },
  {
   "cell_type": "code",
   "execution_count": null,
   "id": "38b2d7d8",
   "metadata": {},
   "outputs": [],
   "source": [
    "darkFunc = exponentialDarkModel(I0 = 0.5, T0 = 20, dT = 10)\n",
    "\n",
    "# psf = airyPSFModel(wavelength=550*units.nm, aperture=aperture*units.mm, focal_length=focal_length*units.mm)\n",
    "# psf = defocusPSFModel(wavelength=wavelength*units.nm, aperture=aperture*units.mm, focal_length=focal_length*units.mm, defocus=1.0*wavelength*units.nm)\n",
    "# psf = pillboxPSFModel(radius=6*units.micron)\n",
    "psf = gaussianPSFModel(sigma=10*units.micron)"
   ]
  },
  {
   "cell_type": "code",
   "execution_count": null,
   "id": "3840057a",
   "metadata": {},
   "outputs": [],
   "source": [
    "no_bloom = set()\n",
    "full_bloom = {'+x','-x','+y','-y'}\n",
    "\n",
    "sensor = Sensor(width_px=700, height_px=700, \n",
    "                px_len=6, px_pitch=6.5, \n",
    "                filter_efficiency=0.9, band='g', \n",
    "                quantum_efficiency=0.3, dark_current=darkFunc, \n",
    "                gain=5, full_well_capacity=1e6, \n",
    "                bloom=no_bloom, \n",
    "                readout_time=0, read_noise=25)\n",
    "\n",
    "lens = Lens(aperture=aperture, focal_length=focal_length, \n",
    "            transmission_efficiency=0.99, \n",
    "            k1=0.4, k2=0.1, k4=0.1,\n",
    "            p1=0.01,\n",
    "            psf=psf, psf_bounds=(3,3))\n",
    "\n",
    "camera = Camera(lens=lens, sensor=sensor, ra=0, dec=0, roll=0)"
   ]
  },
  {
   "cell_type": "markdown",
   "id": "ef39664b",
   "metadata": {},
   "source": [
    "## Lens Distortion Visualization"
   ]
  },
  {
   "cell_type": "code",
   "execution_count": null,
   "id": "05036a56",
   "metadata": {},
   "outputs": [],
   "source": [
    "num_rows = 100\n",
    "num_cols = 101\n",
    "col_step = 10\n",
    "row_step = 10\n",
    "_x = np.linspace(0,1,num_cols)\n",
    "_y = np.linspace(0,1,num_rows)\n",
    "X,Y = np.meshgrid(_x,_y)\n",
    "Xd, Yd = camera.lens.applyDistortion(X,Y)\n",
    "\n",
    "fig, ax = plt.subplots()\n",
    "\n",
    "# reference grid\n",
    "for col in range(0, num_cols, col_step):\n",
    "    ax.plot(X[:,col], Y[:,col], c='k', alpha=0.3, lw=1)\n",
    "for row in range(0, num_rows, row_step):\n",
    "    ax.plot(X[row,:], Y[row,:], c='k', alpha=0.3, lw=1)\n",
    "\n",
    "# distorted grid\n",
    "for col in range(0, num_cols, col_step):\n",
    "    ax.plot(Xd[:,col], Yd[:,col], c='k', lw=1.2)\n",
    "for row in range(0, num_rows, row_step):\n",
    "    ax.plot(Xd[row,:], Yd[row,:], c='k', lw=1.2)\n",
    "ax.set_aspect('equal')\n",
    "ax.set_xlim([0,1])\n",
    "ax.set_ylim([0,1])\n",
    "plt.show()"
   ]
  },
  {
   "cell_type": "markdown",
   "id": "567f862f",
   "metadata": {},
   "source": [
    "## Dark Image"
   ]
  },
  {
   "cell_type": "code",
   "execution_count": null,
   "id": "32df5dd4",
   "metadata": {},
   "outputs": [],
   "source": [
    "camera.sensor.clear()\n",
    "image = camera.snap(sky_mag=21.5, exposure_time=1.0, temperature=20, \n",
    "                    ra=[], \n",
    "                    dec=[], \n",
    "                    magnitudes=[])"
   ]
  },
  {
   "cell_type": "code",
   "execution_count": null,
   "id": "b02fdb6f",
   "metadata": {},
   "outputs": [],
   "source": [
    "fig, ax = plt.subplots()\n",
    "log_image = np.log10(image)\n",
    "ax.imshow(log_image)\n",
    "ax.tick_params(top=True, labeltop=True, bottom=False, labelbottom=False)\n",
    "plt.show()"
   ]
  },
  {
   "cell_type": "markdown",
   "id": "7098e3db",
   "metadata": {},
   "source": [
    "## Gaia Image"
   ]
  },
  {
   "cell_type": "code",
   "execution_count": null,
   "id": "733d9229",
   "metadata": {},
   "outputs": [],
   "source": [
    "catalog_orig = Table.read(GAIA_PATH, format='ascii.ecsv')\n",
    "catalog_orig = catalog_orig[catalog_orig['phot_g_mean_mag'] < 7]\n",
    "print(f\"Working with {len(catalog_orig)} stars.\")"
   ]
  },
  {
   "cell_type": "code",
   "execution_count": null,
   "id": "7f9c90f9",
   "metadata": {},
   "outputs": [],
   "source": [
    "camera.sensor.clear()\n",
    "camera.orient(ra=40, dec=20, roll=45)\n",
    "image = camera.snap(sky_mag=21.5, exposure_time=0.1, temperature=20, \n",
    "                    ra=catalog_orig['ra'].to(units.radian), \n",
    "                    dec=catalog_orig['dec'].to(units.radian), \n",
    "                    magnitudes=catalog_orig['phot_g_mean_mag'].value)"
   ]
  },
  {
   "cell_type": "code",
   "execution_count": null,
   "id": "d80475b3",
   "metadata": {},
   "outputs": [],
   "source": [
    "fig, ax = plt.subplots()\n",
    "log_image = np.log10(image)\n",
    "ax.imshow(log_image, vmin=0)\n",
    "ax.tick_params(top=True, labeltop=True, bottom=False, labelbottom=False)\n",
    "plt.show()"
   ]
  },
  {
   "cell_type": "markdown",
   "id": "0575924b",
   "metadata": {},
   "source": [
    "## Export Image"
   ]
  },
  {
   "cell_type": "code",
   "execution_count": null,
   "id": "8a99c853",
   "metadata": {},
   "outputs": [],
   "source": [
    "from PIL import Image\n",
    "image_uint8 = (255 * (log_image - log_image.min()) / log_image.max()).astype(np.uint8)\n",
    "im = Image.fromarray(image_uint8, mode='L')\n",
    "im.save('example-images/gaia-test.png')\n",
    "display(im)"
   ]
  }
 ],
 "metadata": {
  "kernelspec": {
   "display_name": "phd",
   "language": "python",
   "name": "python3"
  },
  "language_info": {
   "codemirror_mode": {
    "name": "ipython",
    "version": 3
   },
   "file_extension": ".py",
   "mimetype": "text/x-python",
   "name": "python",
   "nbconvert_exporter": "python",
   "pygments_lexer": "ipython3",
   "version": "3.12.5"
  }
 },
 "nbformat": 4,
 "nbformat_minor": 5
}
